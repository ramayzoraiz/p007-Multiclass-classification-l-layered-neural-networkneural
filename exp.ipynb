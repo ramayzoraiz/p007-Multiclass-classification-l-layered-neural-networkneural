{
 "cells": [
  {
   "cell_type": "markdown",
   "metadata": {},
   "source": [
    "## torch loss testing "
   ]
  },
  {
   "cell_type": "code",
   "execution_count": 1,
   "metadata": {},
   "outputs": [],
   "source": [
    "import torch"
   ]
  },
  {
   "cell_type": "code",
   "execution_count": 2,
   "metadata": {},
   "outputs": [
    {
     "data": {
      "text/plain": [
       "tensor([[0, 1, 0, 0, 0],\n",
       "        [0, 0, 1, 0, 0],\n",
       "        [1, 0, 0, 0, 0],\n",
       "        [0, 0, 1, 0, 0],\n",
       "        [0, 0, 0, 1, 0]])"
      ]
     },
     "execution_count": 2,
     "metadata": {},
     "output_type": "execute_result"
    }
   ],
   "source": [
    "Y=torch.tensor([1,2,0,2,3])\n",
    "Y_true = torch.nn.functional.one_hot( Y, num_classes=5 )\n",
    "Y_true"
   ]
  },
  {
   "cell_type": "code",
   "execution_count": 3,
   "metadata": {},
   "outputs": [],
   "source": [
    "Y_pred = torch.tensor( [[0.1,0.6,0.1,0.1,0.1],\n",
    "                        [0.35,0.15,0.3,0.01,0.19],\n",
    "                        [0.2,0.2,0.3,0.2,0.1],\n",
    "                        [0.05,0.1,0.75,0.05,0.05],\n",
    "                        [0.9,0.025,0.025,0.025,0.025]] )"
   ]
  },
  {
   "cell_type": "code",
   "execution_count": 5,
   "metadata": {},
   "outputs": [
    {
     "data": {
      "text/plain": [
       "tensor([1, 2, 2, 2, 0])"
      ]
     },
     "execution_count": 5,
     "metadata": {},
     "output_type": "execute_result"
    }
   ],
   "source": [
    "Y_pred.argmax(1)"
   ]
  },
  {
   "cell_type": "code",
   "execution_count": 5,
   "metadata": {},
   "outputs": [
    {
     "data": {
      "text/plain": [
       "tensor([[-2.3026, -0.5108, -2.3026, -2.3026, -2.3026],\n",
       "        [-1.0498, -1.8971, -1.2040, -4.6052, -1.6607],\n",
       "        [-1.6094, -1.6094, -1.2040, -1.6094, -2.3026],\n",
       "        [-2.9957, -2.3026, -0.2877, -2.9957, -2.9957],\n",
       "        [-0.1054, -3.6889, -3.6889, -3.6889, -3.6889]])"
      ]
     },
     "execution_count": 5,
     "metadata": {},
     "output_type": "execute_result"
    }
   ],
   "source": [
    "torch.log(Y_pred)"
   ]
  },
  {
   "cell_type": "code",
   "execution_count": 23,
   "metadata": {},
   "outputs": [
    {
     "data": {
      "text/plain": [
       "tensor(7.3008)"
      ]
     },
     "execution_count": 23,
     "metadata": {},
     "output_type": "execute_result"
    }
   ],
   "source": [
    "cost = torch.nn.NLLLoss(reduction=\"sum\")\n",
    "cost(torch.log(Y_pred), Y) "
   ]
  },
  {
   "cell_type": "code",
   "execution_count": 9,
   "metadata": {},
   "outputs": [
    {
     "data": {
      "text/plain": [
       "tensor(1.4602)"
      ]
     },
     "execution_count": 9,
     "metadata": {},
     "output_type": "execute_result"
    }
   ],
   "source": [
    "torch.nn.NLLLoss()(torch.log(Y_pred), Y)"
   ]
  },
  {
   "cell_type": "code",
   "execution_count": 16,
   "metadata": {},
   "outputs": [
    {
     "data": {
      "text/plain": [
       "tensor(1.4602)"
      ]
     },
     "execution_count": 16,
     "metadata": {},
     "output_type": "execute_result"
    }
   ],
   "source": [
    "(-Y_pred.log() * Y_true).sum(dim=1).mean()"
   ]
  },
  {
   "cell_type": "code",
   "execution_count": 17,
   "metadata": {},
   "outputs": [
    {
     "data": {
      "text/plain": [
       "tensor(1.4636)"
      ]
     },
     "execution_count": 17,
     "metadata": {},
     "output_type": "execute_result"
    }
   ],
   "source": [
    "-(torch.nn.functional.log_softmax(Y_pred, dim=1) * Y_true).sum(dim=1).mean()"
   ]
  },
  {
   "cell_type": "code",
   "execution_count": 19,
   "metadata": {},
   "outputs": [
    {
     "data": {
      "text/plain": [
       "tensor(1.4636)"
      ]
     },
     "execution_count": 19,
     "metadata": {},
     "output_type": "execute_result"
    }
   ],
   "source": [
    "torch.nn.functional.cross_entropy(input=Y_pred, target=Y_true.to(torch.float32))"
   ]
  },
  {
   "cell_type": "markdown",
   "metadata": {},
   "source": [
    "## tf loss testing"
   ]
  },
  {
   "cell_type": "code",
   "execution_count": 1,
   "metadata": {},
   "outputs": [],
   "source": [
    "import tensorflow as tf"
   ]
  },
  {
   "cell_type": "code",
   "execution_count": 2,
   "metadata": {},
   "outputs": [
    {
     "data": {
      "text/plain": [
       "<tf.Tensor: shape=(5, 5), dtype=float32, numpy=\n",
       "array([[0., 1., 0., 0., 0.],\n",
       "       [0., 0., 1., 0., 0.],\n",
       "       [1., 0., 0., 0., 0.],\n",
       "       [0., 0., 1., 0., 0.],\n",
       "       [0., 0., 0., 1., 0.]], dtype=float32)>"
      ]
     },
     "execution_count": 2,
     "metadata": {},
     "output_type": "execute_result"
    }
   ],
   "source": [
    "Y=tf.constant([1,2,0,2,3],dtype=tf.int32) #int necessary for one_hot_encoding\n",
    "Y_true=tf.one_hot(Y,5, axis=1)\n",
    "Y_true"
   ]
  },
  {
   "cell_type": "code",
   "execution_count": 26,
   "metadata": {},
   "outputs": [
    {
     "ename": "NameError",
     "evalue": "name 'tf' is not defined",
     "output_type": "error",
     "traceback": [
      "\u001b[1;31m---------------------------------------------------------------------------\u001b[0m",
      "\u001b[1;31mNameError\u001b[0m                                 Traceback (most recent call last)",
      "Cell \u001b[1;32mIn[26], line 1\u001b[0m\n\u001b[1;32m----> 1\u001b[0m Y_pred \u001b[38;5;241m=\u001b[39m \u001b[43mtf\u001b[49m\u001b[38;5;241m.\u001b[39mconstant( [[\u001b[38;5;241m0.1\u001b[39m,\u001b[38;5;241m0.6\u001b[39m,\u001b[38;5;241m0.1\u001b[39m,\u001b[38;5;241m0.1\u001b[39m,\u001b[38;5;241m0.1\u001b[39m],\n\u001b[0;32m      2\u001b[0m                         [\u001b[38;5;241m0.3\u001b[39m,\u001b[38;5;241m0.15\u001b[39m,\u001b[38;5;241m0.35\u001b[39m,\u001b[38;5;241m0.01\u001b[39m,\u001b[38;5;241m0.19\u001b[39m],\n\u001b[0;32m      3\u001b[0m                         [\u001b[38;5;241m0.2\u001b[39m,\u001b[38;5;241m0.2\u001b[39m,\u001b[38;5;241m0.3\u001b[39m,\u001b[38;5;241m0.2\u001b[39m,\u001b[38;5;241m0.1\u001b[39m],\n\u001b[0;32m      4\u001b[0m                         [\u001b[38;5;241m0.05\u001b[39m,\u001b[38;5;241m0.1\u001b[39m,\u001b[38;5;241m0.75\u001b[39m,\u001b[38;5;241m0.05\u001b[39m,\u001b[38;5;241m0.05\u001b[39m],\n\u001b[0;32m      5\u001b[0m                         [\u001b[38;5;241m0.9\u001b[39m,\u001b[38;5;241m0.025\u001b[39m,\u001b[38;5;241m0.025\u001b[39m,\u001b[38;5;241m0.025\u001b[39m,\u001b[38;5;241m0.025\u001b[39m]] )\n",
      "\u001b[1;31mNameError\u001b[0m: name 'tf' is not defined"
     ]
    }
   ],
   "source": [
    "Y_pred = tf.constant( [[0.1,0.6,0.1,0.1,0.1],\n",
    "                        [0.35,0.15,0.3,0.01,0.19],\n",
    "                        [0.2,0.2,0.3,0.2,0.1],\n",
    "                        [0.05,0.1,0.75,0.05,0.05],\n",
    "                        [0.9,0.025,0.025,0.025,0.025]] )"
   ]
  },
  {
   "cell_type": "code",
   "execution_count": 5,
   "metadata": {},
   "outputs": [],
   "source": [
    "bce = tf.keras.losses.CategoricalCrossentropy( from_logits=False, reduction='sum')\n",
    "cost = bce(Y_true, Y_pred)"
   ]
  },
  {
   "cell_type": "code",
   "execution_count": 6,
   "metadata": {},
   "outputs": [
    {
     "data": {
      "text/plain": [
       "<tf.Tensor: shape=(), dtype=float32, numpy=7.3007975>"
      ]
     },
     "execution_count": 6,
     "metadata": {},
     "output_type": "execute_result"
    }
   ],
   "source": [
    "cost"
   ]
  },
  {
   "cell_type": "markdown",
   "metadata": {},
   "source": [
    "## torch accuracy"
   ]
  },
  {
   "cell_type": "code",
   "execution_count": 42,
   "metadata": {},
   "outputs": [
    {
     "data": {
      "text/plain": [
       "tensor(0.6000)"
      ]
     },
     "execution_count": 42,
     "metadata": {},
     "output_type": "execute_result"
    }
   ],
   "source": [
    "from torcheval.metrics.functional import multiclass_accuracy\n",
    "Y=torch.tensor([1,2,0,2,3])\n",
    "Y_true = torch.nn.functional.one_hot( Y, num_classes=5 )\n",
    "Y_pred = torch.tensor( [[0.1,0.6,0.1,0.1,0.1],\n",
    "                        [0.30,0.15,0.35,0.01,0.19],\n",
    "                        [0.2,0.2,0.3,0.2,0.1],\n",
    "                        [0.05,0.1,0.45,0.05,0.05],\n",
    "                        [0.9,0.025,0.025,0.025,0.025]] )\n",
    "multiclass_accuracy(input=Y_pred, target=Y_true.argmax(1))"
   ]
  },
  {
   "cell_type": "markdown",
   "metadata": {},
   "source": [
    "## tf one-hot, loss and accuracy integration test "
   ]
  },
  {
   "cell_type": "code",
   "execution_count": 1,
   "metadata": {},
   "outputs": [],
   "source": [
    "import tensorflow as tf\n",
    "import tensorflow.keras as k\n",
    "import matplotlib.pyplot as plt\n",
    "import numpy as np\n",
    "# Add the directory above the current notebook's directory to the system path\n",
    "import sys\n",
    "import os\n",
    "sys.path.append(os.path.join(os.getcwd(), '..'))\n",
    "from datasets import load_spiral_dataset"
   ]
  },
  {
   "cell_type": "code",
   "execution_count": 2,
   "metadata": {},
   "outputs": [],
   "source": [
    "X_np,Y_np = load_spiral_dataset(N=1000, noise=0.2, K=5) # x->(D,N), y->(1,N)\n",
    "X=tf.constant(X_np.T, dtype=tf.float32) # x->(N,D)=(1000,2)\n",
    "Y=tf.constant(Y_np.reshape(-1,1), dtype=tf.int32) # y->(N,1)=(1000,1)"
   ]
  },
  {
   "cell_type": "code",
   "execution_count": 3,
   "metadata": {},
   "outputs": [
    {
     "data": {
      "text/plain": [
       "<tf.Tensor: shape=(5,), dtype=int32, numpy=array([0, 1, 2, 3, 4])>"
      ]
     },
     "execution_count": 3,
     "metadata": {},
     "output_type": "execute_result"
    }
   ],
   "source": [
    "unique_labels = tf.unique(tf.squeeze(Y)).y\n",
    "unique_labels"
   ]
  },
  {
   "cell_type": "code",
   "execution_count": 4,
   "metadata": {},
   "outputs": [],
   "source": [
    "# Y.shape ---> TensorShape([1000, 1])\n",
    "# Y[:,-1].shape or tf.reshape(Y,[-1]).shape ---> TensorShape([1000])\n",
    "# takes int (1000) tensor and outputs float (1000,5) tensor \n",
    "# first reshape Y to (N,) then cast to int8\n",
    "Y_ohc = tf.one_hot( tf.cast(Y[:,-1],tf.int8), depth=5 )\n",
    "# Y_ohc[400:600]"
   ]
  },
  {
   "cell_type": "code",
   "execution_count": 5,
   "metadata": {},
   "outputs": [
    {
     "name": "stdout",
     "output_type": "stream",
     "text": [
      "tf.Tensor(\n",
      "[[0. 1. 0. 0.]\n",
      " [0. 1. 0. 0.]\n",
      " [0. 1. 0. 0.]\n",
      " [0. 0. 0. 1.]\n",
      " [1. 0. 0. 0.]], shape=(5, 4), dtype=float32)\n"
     ]
    }
   ],
   "source": [
    "label=tf.constant([1,2,0,3,2],dtype=tf.int32) #int necessary for one_hot_encoding\n",
    "C = 4\n",
    "Y_true=tf.one_hot(label,C, axis=1)\n",
    "Y_pred=tf.constant([[0., 1., 0., 0.],\n",
    "       [0., 1., 0., 0.],\n",
    "       [0., 1., 0., 0.],\n",
    "       [0., 0., 0., 1.],\n",
    "       [1., 0., 0., 0.]], dtype=tf.float32)\n",
    "print(Y_pred)"
   ]
  },
  {
   "cell_type": "code",
   "execution_count": 6,
   "metadata": {},
   "outputs": [],
   "source": [
    "# Y_pred=tf.cast(Y_pred,tf.int32)\n",
    "Y_true=tf.cast(Y_true,tf.int32)"
   ]
  },
  {
   "cell_type": "code",
   "execution_count": 7,
   "metadata": {},
   "outputs": [
    {
     "data": {
      "text/plain": [
       "<tf.Tensor: shape=(), dtype=float32, numpy=48.354286>"
      ]
     },
     "execution_count": 7,
     "metadata": {},
     "output_type": "execute_result"
    }
   ],
   "source": [
    "# Y_true can be int, float but Y_pred need to be float\n",
    "bce = k.losses.CategoricalCrossentropy(from_logits=False, reduction='sum')\n",
    "cost = bce(Y_true,Y_pred)\n",
    "cost"
   ]
  },
  {
   "cell_type": "code",
   "execution_count": 8,
   "metadata": {},
   "outputs": [
    {
     "data": {
      "text/plain": [
       "0.4"
      ]
     },
     "execution_count": 8,
     "metadata": {},
     "output_type": "execute_result"
    }
   ],
   "source": [
    "# no need to care about int, float\n",
    "# in \n",
    "acc = k.metrics.CategoricalAccuracy()\n",
    "acc.update_state(Y_true,Y_pred)\n",
    "acc.result().numpy()"
   ]
  },
  {
   "cell_type": "code",
   "execution_count": 16,
   "metadata": {},
   "outputs": [
    {
     "data": {
      "text/plain": [
       "<tf.Tensor: shape=(5,), dtype=int64, numpy=array([1, 1, 1, 3, 0], dtype=int64)>"
      ]
     },
     "execution_count": 16,
     "metadata": {},
     "output_type": "execute_result"
    }
   ],
   "source": [
    "tf.argmax(Y_pred, axis=-1)"
   ]
  }
 ],
 "metadata": {
  "kernelspec": {
   "display_name": "tf2_13cpu_env",
   "language": "python",
   "name": "python3"
  },
  "language_info": {
   "codemirror_mode": {
    "name": "ipython",
    "version": 3
   },
   "file_extension": ".py",
   "mimetype": "text/x-python",
   "name": "python",
   "nbconvert_exporter": "python",
   "pygments_lexer": "ipython3",
   "version": "3.9.18"
  }
 },
 "nbformat": 4,
 "nbformat_minor": 2
}
